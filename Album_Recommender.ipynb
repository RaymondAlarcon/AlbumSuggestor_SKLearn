{
 "cells": [
  {
   "cell_type": "markdown",
   "id": "78004fc6-d4b1-406e-91e6-1ff4415ac08b",
   "metadata": {},
   "source": [
    "Simple recommendation model that uses SciKit-Learn to suggest similar albums. "
   ]
  },
  {
   "cell_type": "code",
   "execution_count": 1,
   "id": "34113656-9a48-4263-bd7d-42b677eece7f",
   "metadata": {},
   "outputs": [],
   "source": [
    "import pandas as pd\n",
    "from sklearn.feature_extraction.text import CountVectorizer\n",
    "from sklearn.metrics.pairwise import cosine_similarity\n",
    "from IPython.display import display, HTML"
   ]
  },
  {
   "cell_type": "markdown",
   "id": "5edfff5a-b53b-4b8b-9458-29ded1a98a56",
   "metadata": {},
   "source": [
    "Reads .csv into dataframe and strip spaces from column names."
   ]
  },
  {
   "cell_type": "code",
   "execution_count": 2,
   "id": "d4a5dbb6-7b25-4987-96e9-f47b2864463b",
   "metadata": {},
   "outputs": [],
   "source": [
    "df = pd.read_csv(\"rym_top_5000_all_time.csv\")\n",
    "df.columns = df.columns.str.replace(' ', '')"
   ]
  },
  {
   "cell_type": "markdown",
   "id": "f640f0fa-5c2e-4b4c-9c49-3f52688cb064",
   "metadata": {},
   "source": [
    "Convert album names to all caps for easier searching."
   ]
  },
  {
   "cell_type": "code",
   "execution_count": 3,
   "id": "e5545304-fa48-4bfa-9ef0-60bdb8c5a9a2",
   "metadata": {},
   "outputs": [],
   "source": [
    "def album_upper(row):\n",
    "    return row[\"Album\"].upper()\n",
    "df[\"Album\"] = df.apply(album_upper, axis=1)"
   ]
  },
  {
   "cell_type": "markdown",
   "id": "498178c4-c311-4c52-b5f4-b6ee0bdb9571",
   "metadata": {},
   "source": [
    "Combine Artist Name, Genres, and Descriptors as a comma delimmited list in a new column. \"Genres\" tags repeat to give double weight to albums of similar genres."
   ]
  },
  {
   "cell_type": "code",
   "execution_count": 4,
   "id": "babc063a-5b0a-4496-a768-a8cc86c87c41",
   "metadata": {},
   "outputs": [],
   "source": [
    "tags = ['ArtistName', 'Genres', 'Descriptors']\n",
    "for tag in tags:\n",
    "    df[tag] = df[tag].fillna('')\n",
    "\n",
    "def concat_tags(row):\n",
    "    return row['ArtistName']+\", \"+row['Genres']+\", \"+row['Descriptors']+\", \"+row['Genres']\n",
    "df[\"all_tags\"] = df.apply(concat_tags, axis =1)"
   ]
  },
  {
   "cell_type": "markdown",
   "id": "80680fcc-9bf9-42b2-9df5-1a062e578fd4",
   "metadata": {},
   "source": [
    "Creat \"diplay_tags\" column to display tags with result."
   ]
  },
  {
   "cell_type": "code",
   "execution_count": 5,
   "id": "151a3065-c1e1-4d82-8df9-d03fc0cecc9c",
   "metadata": {},
   "outputs": [],
   "source": [
    "def display_tags(row):\n",
    "    return row['Genres']+\", \"+row['Descriptors']\n",
    "df[\"display_tags\"] = df.apply(display_tags, axis =1)"
   ]
  },
  {
   "cell_type": "markdown",
   "id": "9690c4ef-8547-469b-933f-173d924c44dd",
   "metadata": {},
   "source": [
    "CountVectorizer creates a matrix storing a count or \"score\" for each tag it finds in common with other album tags.\n",
    "\n",
    "Cosine similarity calculates the angle between vectors, represented by \"count_matrix\". Album with the smallest cosine similarity value will return as most similar. "
   ]
  },
  {
   "cell_type": "code",
   "execution_count": 6,
   "id": "57057b43-5e59-48e8-af6e-2028c4b65485",
   "metadata": {},
   "outputs": [],
   "source": [
    "cv = CountVectorizer()\n",
    "count_matrix = cv.fit_transform(df['all_tags'])\n",
    "\n",
    "cosine_sim = cosine_similarity(count_matrix)"
   ]
  },
  {
   "cell_type": "markdown",
   "id": "a158af94-42a3-4577-9931-fdbed8b2c41c",
   "metadata": {},
   "source": [
    "Define functions to get index value from Album Name and to get Album Name, Artist Name, and Display Tags from the index value for displaying the result."
   ]
  },
  {
   "cell_type": "code",
   "execution_count": 7,
   "id": "bf459e7b-db4a-4eb0-8b96-8539baae33bd",
   "metadata": {},
   "outputs": [],
   "source": [
    "def get_album_from_index(Index):\n",
    "    return df[df.index == Index]['Album'].values[0]\n",
    "\n",
    "def get_index_from_album(album):\n",
    "    return df[df.Album == album]['Album'].index.values.astype(int)[0]\n",
    "\n",
    "def get_artist_from_index(Index):\n",
    "    return df[df.index == Index]['ArtistName'].values[0]\n",
    "\n",
    "def get_tags_from_index(Index):\n",
    "    return df[df.index == Index]['display_tags'].values[0]"
   ]
  },
  {
   "cell_type": "markdown",
   "id": "f7f5230b-5130-4db4-a417-742cd3206817",
   "metadata": {},
   "source": [
    "Returns the Top 10 most similar albums to \"selected_album\" and displays the Album Name, Artist Name, and Display Tags. We can change the example album with any album in the list. Entering an album that does not appear on the list or is misspelled will return an error message."
   ]
  },
  {
   "cell_type": "code",
   "execution_count": 9,
   "id": "0025336a-d25d-4df8-8bc5-3c615e35ee5b",
   "metadata": {},
   "outputs": [
    {
     "name": "stdout",
     "output_type": "stream",
     "text": [
      "Input album: VESPERTINE. Tags: Art Pop, Electronic, sensual, romantic, winter, sexual, ethereal, atmospheric, lush, introspective, female vocals, soothing\n",
      "\n",
      "Suggested Albums for VESPERTINE are:\n"
     ]
    },
    {
     "data": {
      "text/html": [
       "<table border=\"1\" class=\"dataframe\">\n",
       "  <thead>\n",
       "    <tr style=\"text-align: right;\">\n",
       "      <th>Album</th>\n",
       "      <th>Artist</th>\n",
       "      <th>Tags</th>\n",
       "    </tr>\n",
       "  </thead>\n",
       "  <tbody>\n",
       "    <tr>\n",
       "      <td>HOMOGENIC</td>\n",
       "      <td>Björk</td>\n",
       "      <td>Art Pop, Electronic, cold, passionate, ethereal, lush, female vocals, atmospheric, introspective, anxious, winter, romantic</td>\n",
       "    </tr>\n",
       "    <tr>\n",
       "      <td>POST</td>\n",
       "      <td>Björk</td>\n",
       "      <td>Art Pop, Electronic, eclectic, playful, passionate, female vocals, futuristic, quirky, lush, melodic, atmospheric, abstract</td>\n",
       "    </tr>\n",
       "    <tr>\n",
       "      <td>IMPOSSIBLE PRINCESS</td>\n",
       "      <td>Kylie Minogue</td>\n",
       "      <td>Art Pop, Electronic, introspective, eclectic, female vocals, atmospheric, melancholic, energetic, rhythmic, sensual, melodic, mysterious</td>\n",
       "    </tr>\n",
       "    <tr>\n",
       "      <td>THE SENSUAL WORLD</td>\n",
       "      <td>Kate Bush</td>\n",
       "      <td>Art Pop, sensual, female vocals, passionate, lush, romantic, melodic, atmospheric, poetic, love, nocturnal</td>\n",
       "    </tr>\n",
       "    <tr>\n",
       "      <td>救済の技法 (KYUUSAI NO GIHOU)</td>\n",
       "      <td>平沢進 [Susumu Hirasawa]</td>\n",
       "      <td>Art Pop, Progressive Pop, Electronic, epic, dense, Wall of Sound, passionate, lush, atmospheric, ethereal, orchestral, futuristic, melodic</td>\n",
       "    </tr>\n",
       "    <tr>\n",
       "      <td>DEBUT</td>\n",
       "      <td>Björk</td>\n",
       "      <td>Art Pop, House, passionate, romantic, female vocals, playful, rhythmic, eclectic, love, party, sensual, lush</td>\n",
       "    </tr>\n",
       "    <tr>\n",
       "      <td>BOYS AND GIRLS</td>\n",
       "      <td>Bryan Ferry</td>\n",
       "      <td>Sophisti-Pop, Pop Rock, Art Pop, atmospheric, romantic, male vocals, nocturnal, lush, sensual, sexual, urban, love</td>\n",
       "    </tr>\n",
       "    <tr>\n",
       "      <td>THE KICK INSIDE</td>\n",
       "      <td>Kate Bush</td>\n",
       "      <td>Art Pop, romantic, poetic, love, female vocals, sensual, melodic, passionate, warm, lush, uplifting</td>\n",
       "    </tr>\n",
       "    <tr>\n",
       "      <td>VULNICURA</td>\n",
       "      <td>Björk</td>\n",
       "      <td>Art Pop, breakup, sombre, melancholic, female vocals, concept album, serious, sad, sentimental, introspective, lush</td>\n",
       "    </tr>\n",
       "    <tr>\n",
       "      <td>PANG</td>\n",
       "      <td>Caroline Polachek</td>\n",
       "      <td>Art Pop, atmospheric, female vocals, longing, ethereal, breakup, bittersweet, introspective, love, passionate, melodic</td>\n",
       "    </tr>\n",
       "  </tbody>\n",
       "</table>"
      ],
      "text/plain": [
       "<IPython.core.display.HTML object>"
      ]
     },
     "metadata": {},
     "output_type": "display_data"
    }
   ],
   "source": [
    "selected_album = (\"Vespertine\").upper()\n",
    "\n",
    "try:\n",
    "    album_index = get_index_from_album(selected_album)\n",
    "    suggestion =  list(enumerate(cosine_sim[album_index]))\n",
    "    sorted_albums = sorted(suggestion,key=lambda x:x[1],reverse=True)[1:]\n",
    "    album_sug_df = pd.DataFrame(index=range(10), columns=(\"Album\", \"Artist\", \"Tags\"))\n",
    "    print(\"Input album: \" + selected_album + \". Tags: \" + get_tags_from_index(album_index) +\"\\n\")\n",
    "    i=0\n",
    "    print(\"Suggested Albums for \"+selected_album+\" are:\")\n",
    "    for element in sorted_albums:\n",
    "        album_sug_df.at[i, \"Album\"] = get_album_from_index(element[0])\n",
    "        album_sug_df.at[i, \"Artist\"] = get_artist_from_index(element[0])\n",
    "        album_sug_df.at[i, \"Tags\"] = get_tags_from_index(element[0])\n",
    "        i=i+1\n",
    "        if i>=10:\n",
    "            break\n",
    "            \n",
    "    display(HTML(album_sug_df.to_html(index=False)))\n",
    "except:\n",
    "    print(\"Not a valid album name. Please check spelling.\")"
   ]
  }
 ],
 "metadata": {
  "kernelspec": {
   "display_name": "Python 3 (ipykernel)",
   "language": "python",
   "name": "python3"
  },
  "language_info": {
   "codemirror_mode": {
    "name": "ipython",
    "version": 3
   },
   "file_extension": ".py",
   "mimetype": "text/x-python",
   "name": "python",
   "nbconvert_exporter": "python",
   "pygments_lexer": "ipython3",
   "version": "3.9.12"
  }
 },
 "nbformat": 4,
 "nbformat_minor": 5
}
